{
 "cells": [
  {
   "cell_type": "markdown",
   "metadata": {},
   "source": [
    "# **Sentix - Análise Inteligente de Sentimentos**"
   ]
  },
  {
   "cell_type": "markdown",
   "metadata": {},
   "source": [
    "## **Introdução**\n",
    "\n",
    "Sistema Baseado em Inteligência Artificial para análise de sentimentos em textos. Utilizando processamento de linguagem natural (NLP), o projeto é capaz de interpretar e classificar a polaridade emocional de frases, identificando se um determinado texto expressa um sentimento positivo, negativo ou neutro.\n",
    "\n",
    "Desenvolvido com Python e integrado a um modelo de machine learning, o Sextix recebe textos de entrada e fornece uma análise automatizada do sentimento embutido, tornando - se uma ferramenta útil para diversas aplicações, como monitoramento de redes sociais, feedback de usuários e suporte automatizado.\n"
   ]
  },
  {
   "cell_type": "markdown",
   "metadata": {},
   "source": [
    " ## 1. **Instalação das Bibliotecas** "
   ]
  },
  {
   "cell_type": "code",
   "execution_count": 1,
   "metadata": {},
   "outputs": [
    {
     "name": "stdout",
     "output_type": "stream",
     "text": [
      "Requirement already satisfied: pandas in c:\\users\\jmend\\anaconda3\\lib\\site-packages (2.2.2)\n",
      "Requirement already satisfied: nltk in c:\\users\\jmend\\anaconda3\\lib\\site-packages (3.8.1)\n",
      "Requirement already satisfied: matplotlib in c:\\users\\jmend\\anaconda3\\lib\\site-packages (3.8.4)\n",
      "Requirement already satisfied: seaborn in c:\\users\\jmend\\anaconda3\\lib\\site-packages (0.13.2)\n",
      "Requirement already satisfied: scikit-learn in c:\\users\\jmend\\anaconda3\\lib\\site-packages (1.4.2)\n",
      "Requirement already satisfied: numpy in c:\\users\\jmend\\anaconda3\\lib\\site-packages (1.26.4)\n",
      "Requirement already satisfied: python-dateutil>=2.8.2 in c:\\users\\jmend\\anaconda3\\lib\\site-packages (from pandas) (2.9.0.post0)\n",
      "Requirement already satisfied: pytz>=2020.1 in c:\\users\\jmend\\anaconda3\\lib\\site-packages (from pandas) (2024.1)\n",
      "Requirement already satisfied: tzdata>=2022.7 in c:\\users\\jmend\\anaconda3\\lib\\site-packages (from pandas) (2023.3)\n",
      "Requirement already satisfied: click in c:\\users\\jmend\\anaconda3\\lib\\site-packages (from nltk) (8.1.7)\n",
      "Requirement already satisfied: joblib in c:\\users\\jmend\\anaconda3\\lib\\site-packages (from nltk) (1.4.2)\n",
      "Requirement already satisfied: regex>=2021.8.3 in c:\\users\\jmend\\anaconda3\\lib\\site-packages (from nltk) (2023.10.3)\n",
      "Requirement already satisfied: tqdm in c:\\users\\jmend\\anaconda3\\lib\\site-packages (from nltk) (4.66.4)\n",
      "Requirement already satisfied: contourpy>=1.0.1 in c:\\users\\jmend\\anaconda3\\lib\\site-packages (from matplotlib) (1.2.0)\n",
      "Requirement already satisfied: cycler>=0.10 in c:\\users\\jmend\\anaconda3\\lib\\site-packages (from matplotlib) (0.11.0)\n",
      "Requirement already satisfied: fonttools>=4.22.0 in c:\\users\\jmend\\anaconda3\\lib\\site-packages (from matplotlib) (4.51.0)\n",
      "Requirement already satisfied: kiwisolver>=1.3.1 in c:\\users\\jmend\\anaconda3\\lib\\site-packages (from matplotlib) (1.4.4)\n",
      "Requirement already satisfied: packaging>=20.0 in c:\\users\\jmend\\anaconda3\\lib\\site-packages (from matplotlib) (23.2)\n",
      "Requirement already satisfied: pillow>=8 in c:\\users\\jmend\\anaconda3\\lib\\site-packages (from matplotlib) (10.3.0)\n",
      "Requirement already satisfied: pyparsing>=2.3.1 in c:\\users\\jmend\\anaconda3\\lib\\site-packages (from matplotlib) (3.0.9)\n",
      "Requirement already satisfied: scipy>=1.6.0 in c:\\users\\jmend\\anaconda3\\lib\\site-packages (from scikit-learn) (1.13.1)\n",
      "Requirement already satisfied: threadpoolctl>=2.0.0 in c:\\users\\jmend\\anaconda3\\lib\\site-packages (from scikit-learn) (2.2.0)\n",
      "Requirement already satisfied: six>=1.5 in c:\\users\\jmend\\anaconda3\\lib\\site-packages (from python-dateutil>=2.8.2->pandas) (1.16.0)\n",
      "Requirement already satisfied: colorama in c:\\users\\jmend\\anaconda3\\lib\\site-packages (from click->nltk) (0.4.6)\n",
      "Note: you may need to restart the kernel to use updated packages.\n"
     ]
    }
   ],
   "source": [
    "pip install pandas nltk matplotlib seaborn scikit-learn numpy"
   ]
  },
  {
   "cell_type": "markdown",
   "metadata": {},
   "source": [
    "## 2. **Coleta de Dados** \n",
    "\n",
    "* Capturar dados de um arquivo excel (csv) e validar se a coleta deu certo."
   ]
  },
  {
   "cell_type": "code",
   "execution_count": 2,
   "metadata": {},
   "outputs": [
    {
     "data": {
      "text/plain": [
       "Index(['0', '1467810369', 'Mon Apr 06 22:19:45 PDT 2009', 'NO_QUERY',\n",
       "       '_TheSpecialOne_',\n",
       "       '@switchfoot http://twitpic.com/2y1zl - Awww, that's a bummer.  You shoulda got David Carr of Third Day to do it. ;D'],\n",
       "      dtype='object')"
      ]
     },
     "execution_count": 2,
     "metadata": {},
     "output_type": "execute_result"
    }
   ],
   "source": [
    "# Importando a biblioteca PANDAS para realizar a manipulação dos dados.\n",
    "import pandas as pd\n",
    "\n",
    "# Caminho onde a base está localizada.\n",
    "Base_Tweets = pd.read_csv(r'C:\\Users\\jmend\\OneDrive\\Documentos\\Projetos\\Bases Dados\\Tweets.csv', encoding='latin1')\n",
    "\n",
    "# Verificando as colunas que fora importadas.\n",
    "Base_Tweets.columns"
   ]
  },
  {
   "cell_type": "code",
   "execution_count": 3,
   "metadata": {},
   "outputs": [
    {
     "data": {
      "text/html": [
       "<div>\n",
       "<style scoped>\n",
       "    .dataframe tbody tr th:only-of-type {\n",
       "        vertical-align: middle;\n",
       "    }\n",
       "\n",
       "    .dataframe tbody tr th {\n",
       "        vertical-align: top;\n",
       "    }\n",
       "\n",
       "    .dataframe thead th {\n",
       "        text-align: right;\n",
       "    }\n",
       "</style>\n",
       "<table border=\"1\" class=\"dataframe\">\n",
       "  <thead>\n",
       "    <tr style=\"text-align: right;\">\n",
       "      <th></th>\n",
       "      <th>0</th>\n",
       "      <th>1467810369</th>\n",
       "      <th>Mon Apr 06 22:19:45 PDT 2009</th>\n",
       "      <th>NO_QUERY</th>\n",
       "      <th>_TheSpecialOne_</th>\n",
       "      <th>@switchfoot http://twitpic.com/2y1zl - Awww, that's a bummer.  You shoulda got David Carr of Third Day to do it. ;D</th>\n",
       "    </tr>\n",
       "  </thead>\n",
       "  <tbody>\n",
       "    <tr>\n",
       "      <th>0</th>\n",
       "      <td>0</td>\n",
       "      <td>1467810672</td>\n",
       "      <td>Mon Apr 06 22:19:49 PDT 2009</td>\n",
       "      <td>NO_QUERY</td>\n",
       "      <td>scotthamilton</td>\n",
       "      <td>is upset that he can't update his Facebook by ...</td>\n",
       "    </tr>\n",
       "    <tr>\n",
       "      <th>1</th>\n",
       "      <td>0</td>\n",
       "      <td>1467810917</td>\n",
       "      <td>Mon Apr 06 22:19:53 PDT 2009</td>\n",
       "      <td>NO_QUERY</td>\n",
       "      <td>mattycus</td>\n",
       "      <td>@Kenichan I dived many times for the ball. Man...</td>\n",
       "    </tr>\n",
       "    <tr>\n",
       "      <th>2</th>\n",
       "      <td>0</td>\n",
       "      <td>1467811184</td>\n",
       "      <td>Mon Apr 06 22:19:57 PDT 2009</td>\n",
       "      <td>NO_QUERY</td>\n",
       "      <td>ElleCTF</td>\n",
       "      <td>my whole body feels itchy and like its on fire</td>\n",
       "    </tr>\n",
       "    <tr>\n",
       "      <th>3</th>\n",
       "      <td>0</td>\n",
       "      <td>1467811193</td>\n",
       "      <td>Mon Apr 06 22:19:57 PDT 2009</td>\n",
       "      <td>NO_QUERY</td>\n",
       "      <td>Karoli</td>\n",
       "      <td>@nationwideclass no, it's not behaving at all....</td>\n",
       "    </tr>\n",
       "    <tr>\n",
       "      <th>4</th>\n",
       "      <td>0</td>\n",
       "      <td>1467811372</td>\n",
       "      <td>Mon Apr 06 22:20:00 PDT 2009</td>\n",
       "      <td>NO_QUERY</td>\n",
       "      <td>joy_wolf</td>\n",
       "      <td>@Kwesidei not the whole crew</td>\n",
       "    </tr>\n",
       "  </tbody>\n",
       "</table>\n",
       "</div>"
      ],
      "text/plain": [
       "   0  1467810369  Mon Apr 06 22:19:45 PDT 2009  NO_QUERY _TheSpecialOne_  \\\n",
       "0  0  1467810672  Mon Apr 06 22:19:49 PDT 2009  NO_QUERY   scotthamilton   \n",
       "1  0  1467810917  Mon Apr 06 22:19:53 PDT 2009  NO_QUERY        mattycus   \n",
       "2  0  1467811184  Mon Apr 06 22:19:57 PDT 2009  NO_QUERY         ElleCTF   \n",
       "3  0  1467811193  Mon Apr 06 22:19:57 PDT 2009  NO_QUERY          Karoli   \n",
       "4  0  1467811372  Mon Apr 06 22:20:00 PDT 2009  NO_QUERY        joy_wolf   \n",
       "\n",
       "  @switchfoot http://twitpic.com/2y1zl - Awww, that's a bummer.  You shoulda got David Carr of Third Day to do it. ;D  \n",
       "0  is upset that he can't update his Facebook by ...                                                                   \n",
       "1  @Kenichan I dived many times for the ball. Man...                                                                   \n",
       "2    my whole body feels itchy and like its on fire                                                                    \n",
       "3  @nationwideclass no, it's not behaving at all....                                                                   \n",
       "4                      @Kwesidei not the whole crew                                                                    "
      ]
     },
     "execution_count": 3,
     "metadata": {},
     "output_type": "execute_result"
    }
   ],
   "source": [
    "# Validando os primeiros valores da base.\n",
    "Base_Tweets.head()"
   ]
  },
  {
   "cell_type": "markdown",
   "metadata": {},
   "source": [
    "## **2.1 Organização do Conjunto de Dados**\n",
    "\n",
    "* Objetivo de renomear os nomes das colunas, afim de melhorar o entendimento de cada uma delas.\n"
   ]
  },
  {
   "cell_type": "code",
   "execution_count": 4,
   "metadata": {},
   "outputs": [
    {
     "name": "stdout",
     "output_type": "stream",
     "text": [
      "<class 'pandas.core.frame.DataFrame'>\n",
      "RangeIndex: 1599999 entries, 0 to 1599998\n",
      "Data columns (total 6 columns):\n",
      " #   Column     Non-Null Count    Dtype \n",
      "---  ------     --------------    ----- \n",
      " 0   sentiment  1599999 non-null  int64 \n",
      " 1   tweet_id   1599999 non-null  int64 \n",
      " 2   timestamp  1599999 non-null  object\n",
      " 3   query      1599999 non-null  object\n",
      " 4   user_name  1599999 non-null  object\n",
      " 5   text       1599999 non-null  object\n",
      "dtypes: int64(2), object(4)\n",
      "memory usage: 73.2+ MB\n"
     ]
    }
   ],
   "source": [
    "### --> Criando novos nomes para as colunas\n",
    "columns = ['sentiment', 'tweet_id', 'timestamp', 'query', 'user_name',\n",
    "           'text']\n",
    "\n",
    "### --> Atribui os novos nomes de colunas ao conjunto de dados\n",
    "Base_Tweets.columns = columns\n",
    "\n",
    "### --> Capturo informações atualizadas dos dados\n",
    "Base_Tweets.info()"
   ]
  },
  {
   "cell_type": "markdown",
   "metadata": {},
   "source": [
    "## 2.2 **Descrição do Conjunto de Dados**"
   ]
  },
  {
   "cell_type": "markdown",
   "metadata": {},
   "source": [
    "* *Atributos* = 6\n",
    "    * `sentiment` = Representa o sentimento do tweet.\n",
    "                    - 0: Negativo\n",
    "                    - 2: Neutro\n",
    "                    - 4: Positivo\n",
    "    * `tweet_id` = ID único do tweet.\n",
    "    * `timestamp` = Data e hora do tweet.\n",
    "    * `query` = Consulta usada para coletar o tweet (Geralmente \"NO_QUERY\").\n",
    "    * `user_name` = Nome de usuário do autor do tweet.\n",
    "    * `text` = Conteúdo textual do tweet. Sendo assim o foco principal."
   ]
  },
  {
   "cell_type": "markdown",
   "metadata": {},
   "source": [
    "## **2.3 Resumo de Importância das Variáveis**"
   ]
  },
  {
   "cell_type": "markdown",
   "metadata": {},
   "source": [
    "| Nome da Coluna  | Relevância | Descrição de Importância |\n",
    "|-----------------|--------------|------------------|\n",
    "| Sentiment       | Alta (Variável Alvo) | Treinar o mmodelo para classificar sentimento |\n",
    "| tweet_id | Baixa | Identificação única |\n",
    "| timestamp | Moderada | Análises temporais ou tendências |\n",
    "| query | Muito Baixa | Irrelevante |\n",
    "| username | Baixa | Pouco relevante para analise de sentimentos |\n",
    "| text | Alta | Texto do tweet usado para o processamento e análise de sentimentos |"
   ]
  },
  {
   "cell_type": "markdown",
   "metadata": {},
   "source": [
    "## **3. Pré - Processamento**"
   ]
  },
  {
   "cell_type": "markdown",
   "metadata": {},
   "source": [
    "### **3.1 Seleção de Atributos**\n",
    "\n",
    "* A seleção de atributos é uma etapa fundamental na preparação de dados para análise e modelagem dos dados. Ao remover essas colunas irrelevantes, conseguimos obter:\n",
    "\n",
    "    * `Melhorar a performance:`Ao reduzir a dimensionaliade dos dados, os algoritmos de aprendizado de máquina podem treinar mais rapidamente e com maior precisão.\n",
    "\n",
    "    * `Simplificar a análise:` Ao trabalhar com um conjunto de dados menor e mais focado, a análise se torna mais fácil e intuitiva.\n",
    "\n",
    "    * `Evitar o overfitting: ` A inclusão de muitas variáveis irrelevantes pode levar o modelo a ter overfitting, ou seja, o modelo se ajusta muito bem ao dados de treinamento e não consegue ter uma generalização eficiente."
   ]
  },
  {
   "cell_type": "code",
   "execution_count": 7,
   "metadata": {},
   "outputs": [],
   "source": [
    "# Remove colunas que não serão utilizadas na análise\n",
    "Base_Tweets = Base_Tweets.drop(columns=['tweet_id', 'query', 'user_name'])"
   ]
  },
  {
   "cell_type": "code",
   "execution_count": 8,
   "metadata": {},
   "outputs": [
    {
     "data": {
      "text/plain": [
       "Index(['sentiment', 'timestamp', 'text'], dtype='object')"
      ]
     },
     "execution_count": 8,
     "metadata": {},
     "output_type": "execute_result"
    }
   ],
   "source": [
    "# Verifica as colunas restantes\n",
    "Base_Tweets.columns"
   ]
  },
  {
   "cell_type": "markdown",
   "metadata": {},
   "source": [
    "### **3.2 Limpeza de Texto** \n",
    "\n",
    "A etapa aplicada tem como objetivo pré - processar textos, removendo elementos que podem interferir na análise de texto. Ao realizar essa limpeza, os textos se tornam mais padronizados e adequados para técnicas de processamento de linguage natural (NLP), como análise de sentimentos e classificação de texto. \n",
    "\n",
    "---\n",
    "\n",
    "**O que foi feito?**\n",
    "\n",
    "* ***Remoção de Caracteres indesejados, URLs, menções e hashtags***\n",
    "    * Esses elemtnos podem desviar a atenção do conteúdo principal do texto. Ao removê - los, garantimos que a análise se concentre nas palavras e frases que realmente expressam a ideia central.\n",
    "\n",
    "* ***Uniformizar os textos, deixando todos de forma minuscula***\n",
    "    * Vamos ter uma maior padronização do texto, reduzindo a dimensionalidade do vocabulário e facilita a comparação entre as palavras.\n",
    "\n",
    "* ***Remover os espaços vazios***\n",
    "    * Espaços em branco extras podem gerar tokens vazios e comprometer a representação vetorial do texto. Ao remover esses espaços garantimos que cada token represente uma palavra significativa."
   ]
  },
  {
   "cell_type": "code",
   "execution_count": 9,
   "metadata": {},
   "outputs": [],
   "source": [
    "# Importação da biblioteca para manipular expressões regulares\n",
    "import re\n",
    "\n",
    "#Criei uma função para limpar os textos removendo URLs, menções, hashtags, caracteres especiais.\n",
    "def clean_text_v3(text):\n",
    "\n",
    "    # 1. Remove URLs (ex.: http:// ou https://)\n",
    "    text = re.sub(r\"http\\S+|www\\S+\", \"\", text)\n",
    "\n",
    "    # 2. Remove menções (ex.: @usuario)\n",
    "    text = re.sub(r\"@\\w+\", \"\", text)\n",
    "\n",
    "    # 3. Remove hashtags (mantendo a palavra associada)\n",
    "    text = re.sub(r\"#\", \"\", text)\n",
    "\n",
    "    # 4. Remove caracteres especiais, mantendo pontuações relevantes\n",
    "    text = re.sub(r\"[^\\w\\s.,!?']\", \"\", text)\n",
    "\n",
    "    # 5. Converte para letras minúsculas\n",
    "    text = text.lower()\n",
    "\n",
    "    # 6. Remove espaços extras\n",
    "    text = re.sub(r\"\\s+\", \" \", text).strip()\n",
    "\n",
    "    return text\n"
   ]
  },
  {
   "cell_type": "code",
   "execution_count": 10,
   "metadata": {},
   "outputs": [],
   "source": [
    "# Aplicando função na minha coluna \"text\"\n",
    "Base_Tweets['text'] = Base_Tweets['text'].apply(clean_text_v3)"
   ]
  },
  {
   "cell_type": "code",
   "execution_count": 11,
   "metadata": {},
   "outputs": [
    {
     "name": "stdout",
     "output_type": "stream",
     "text": [
      "                                                text\n",
      "0  is upset that he can't update his facebook by ...\n",
      "1  i dived many times for the ball. managed to sa...\n",
      "2     my whole body feels itchy and like its on fire\n",
      "3  no, it's not behaving at all. i'm mad. why am ...\n",
      "4                                 not the whole crew\n",
      "5                                         need a hug\n",
      "6  hey long time no see! yes.. rains a bit ,only ...\n",
      "7                           nope they didn't have it\n",
      "8                                     que me muera ?\n",
      "9         spring break in plain city... it's snowing\n"
     ]
    }
   ],
   "source": [
    "# Validando os valores pra verificar se a limpeza deu certo.\n",
    "print(Base_Tweets[['text']].head(10))"
   ]
  },
  {
   "cell_type": "markdown",
   "metadata": {},
   "source": [
    "### **3.3 Tokenização**\n",
    "\n",
    "A tokenização em Processamento em Linguagem Natural, refere - se ao processo de conversão de uma sequência de texto em parte menores que são chamadas de tokens. Certamente, com a aplicação dela podemos ajudar o modelo analisar cada modelo de forma separada e desta forma ficando mais fácil identificar padrões.\n",
    "\n",
    "---\n",
    "\n",
    "**O que foi feito?**\n",
    "\n",
    "* Importação do modelo NLTK que é especialmente utilizado para tarefas de PLN na qual temos que determinar tokens nos textos.\n",
    "\n",
    "* Criação da coluna tokens, cada texto se torna uma lista.\n",
    "\n"
   ]
  },
  {
   "cell_type": "code",
   "execution_count": 12,
   "metadata": {},
   "outputs": [
    {
     "name": "stderr",
     "output_type": "stream",
     "text": [
      "[nltk_data] Downloading package punkt to\n",
      "[nltk_data]     C:\\Users\\jmend\\AppData\\Roaming\\nltk_data...\n",
      "[nltk_data]   Package punkt is already up-to-date!\n"
     ]
    },
    {
     "name": "stdout",
     "output_type": "stream",
     "text": [
      "                                                text  \\\n",
      "0  is upset that he can't update his facebook by ...   \n",
      "1  i dived many times for the ball. managed to sa...   \n",
      "2     my whole body feels itchy and like its on fire   \n",
      "3  no, it's not behaving at all. i'm mad. why am ...   \n",
      "4                                 not the whole crew   \n",
      "\n",
      "                                              tokens  \n",
      "0  [is, upset, that, he, ca, n't, update, his, fa...  \n",
      "1  [i, dived, many, times, for, the, ball, ., man...  \n",
      "2  [my, whole, body, feels, itchy, and, like, its...  \n",
      "3  [no, ,, it, 's, not, behaving, at, all, ., i, ...  \n",
      "4                            [not, the, whole, crew]  \n"
     ]
    }
   ],
   "source": [
    "# Importa a biblioteca NLTK que é a principal para tarefas de processamento de linguagem natural em Python\n",
    "import nltk\n",
    "\n",
    "# Dowload do tokenizar Punkt, ele é um modelo que é treinado para dividir textos em sentenças\n",
    "nltk.download('punkt')\n",
    "\n",
    "# Criação da coluna tokens, onde nessa coluna cada elementa se torna uma lista.\n",
    "Base_Tweets['tokens'] = Base_Tweets['text'].apply(nltk.word_tokenize)\n",
    "\n",
    "print(Base_Tweets[['text', 'tokens']].head())\n"
   ]
  },
  {
   "cell_type": "code",
   "execution_count": 13,
   "metadata": {},
   "outputs": [
    {
     "data": {
      "text/html": [
       "<div>\n",
       "<style scoped>\n",
       "    .dataframe tbody tr th:only-of-type {\n",
       "        vertical-align: middle;\n",
       "    }\n",
       "\n",
       "    .dataframe tbody tr th {\n",
       "        vertical-align: top;\n",
       "    }\n",
       "\n",
       "    .dataframe thead th {\n",
       "        text-align: right;\n",
       "    }\n",
       "</style>\n",
       "<table border=\"1\" class=\"dataframe\">\n",
       "  <thead>\n",
       "    <tr style=\"text-align: right;\">\n",
       "      <th></th>\n",
       "      <th>sentiment</th>\n",
       "      <th>timestamp</th>\n",
       "      <th>text</th>\n",
       "      <th>tokens</th>\n",
       "    </tr>\n",
       "  </thead>\n",
       "  <tbody>\n",
       "    <tr>\n",
       "      <th>0</th>\n",
       "      <td>0</td>\n",
       "      <td>Mon Apr 06 22:19:49 PDT 2009</td>\n",
       "      <td>is upset that he can't update his facebook by ...</td>\n",
       "      <td>[is, upset, that, he, ca, n't, update, his, fa...</td>\n",
       "    </tr>\n",
       "    <tr>\n",
       "      <th>1</th>\n",
       "      <td>0</td>\n",
       "      <td>Mon Apr 06 22:19:53 PDT 2009</td>\n",
       "      <td>i dived many times for the ball. managed to sa...</td>\n",
       "      <td>[i, dived, many, times, for, the, ball, ., man...</td>\n",
       "    </tr>\n",
       "    <tr>\n",
       "      <th>2</th>\n",
       "      <td>0</td>\n",
       "      <td>Mon Apr 06 22:19:57 PDT 2009</td>\n",
       "      <td>my whole body feels itchy and like its on fire</td>\n",
       "      <td>[my, whole, body, feels, itchy, and, like, its...</td>\n",
       "    </tr>\n",
       "    <tr>\n",
       "      <th>3</th>\n",
       "      <td>0</td>\n",
       "      <td>Mon Apr 06 22:19:57 PDT 2009</td>\n",
       "      <td>no, it's not behaving at all. i'm mad. why am ...</td>\n",
       "      <td>[no, ,, it, 's, not, behaving, at, all, ., i, ...</td>\n",
       "    </tr>\n",
       "    <tr>\n",
       "      <th>4</th>\n",
       "      <td>0</td>\n",
       "      <td>Mon Apr 06 22:20:00 PDT 2009</td>\n",
       "      <td>not the whole crew</td>\n",
       "      <td>[not, the, whole, crew]</td>\n",
       "    </tr>\n",
       "  </tbody>\n",
       "</table>\n",
       "</div>"
      ],
      "text/plain": [
       "   sentiment                     timestamp  \\\n",
       "0          0  Mon Apr 06 22:19:49 PDT 2009   \n",
       "1          0  Mon Apr 06 22:19:53 PDT 2009   \n",
       "2          0  Mon Apr 06 22:19:57 PDT 2009   \n",
       "3          0  Mon Apr 06 22:19:57 PDT 2009   \n",
       "4          0  Mon Apr 06 22:20:00 PDT 2009   \n",
       "\n",
       "                                                text  \\\n",
       "0  is upset that he can't update his facebook by ...   \n",
       "1  i dived many times for the ball. managed to sa...   \n",
       "2     my whole body feels itchy and like its on fire   \n",
       "3  no, it's not behaving at all. i'm mad. why am ...   \n",
       "4                                 not the whole crew   \n",
       "\n",
       "                                              tokens  \n",
       "0  [is, upset, that, he, ca, n't, update, his, fa...  \n",
       "1  [i, dived, many, times, for, the, ball, ., man...  \n",
       "2  [my, whole, body, feels, itchy, and, like, its...  \n",
       "3  [no, ,, it, 's, not, behaving, at, all, ., i, ...  \n",
       "4                            [not, the, whole, crew]  "
      ]
     },
     "execution_count": 13,
     "metadata": {},
     "output_type": "execute_result"
    }
   ],
   "source": [
    "Base_Tweets.head()\n"
   ]
  },
  {
   "cell_type": "markdown",
   "metadata": {},
   "source": [
    "### **3.4 Remoção de StopWords**\n",
    "\n",
    "Os StopWords são aquelas palavras que aparecem frequentemente no texto mas que não contribui de forma semãntica. Portanto, com a aplicação desta técnica reduzimos os ruídos presentes nas informações e foca apenas nas palavras mais importantes.\n",
    "\n",
    "---\n",
    "\n",
    "**Em Resumo**\n",
    "\n",
    "* Carregamos uma lista de palavras consideradas comuns e sem significado (stop words) para a língua inglesa.\n",
    "\n",
    "* Itera sobre cada texto do conjunto de dados.\n",
    "\n",
    "* Remove as palavras que estão presentes na lista de stop words.\n",
    "\n",
    "* Atualiza o conjunto de dados com os textos limpos."
   ]
  },
  {
   "cell_type": "code",
   "execution_count": 14,
   "metadata": {},
   "outputs": [
    {
     "name": "stderr",
     "output_type": "stream",
     "text": [
      "[nltk_data] Downloading package stopwords to\n",
      "[nltk_data]     C:\\Users\\jmend\\AppData\\Roaming\\nltk_data...\n",
      "[nltk_data]   Package stopwords is already up-to-date!\n"
     ]
    },
    {
     "name": "stdout",
     "output_type": "stream",
     "text": [
      "                                              tokens\n",
      "0  [upset, ca, n't, update, facebook, texting, .....\n",
      "1  [dived, many, times, ball, ., managed, save, 5...\n",
      "2            [whole, body, feels, itchy, like, fire]\n",
      "3  [,, 's, behaving, ., 'm, mad, ., ?, ca, n't, s...\n",
      "4                                      [whole, crew]\n"
     ]
    }
   ],
   "source": [
    "# Importa o módulo de stopwords da biblioteca NLTK\n",
    "from nltk.corpus import stopwords\n",
    "\n",
    "# Realiza o dowload do conjunto de dados das stopwords, é necessários que estejam disponiveis localmente.\n",
    "nltk.download('stopwords')\n",
    "\n",
    "# Criação de um conjunto de dados que contém todas as stopwords da língua inglesa.\n",
    "stop_words = set(stopwords.words('english'))\n",
    "\n",
    "# Removemos as palavras que fazem parte dos stopwords baixados na coluna tokens\n",
    "# Verificamos se a palavra NÃO está presente no conjunto de stopwords\n",
    "# Se a palavra não estiver, ela é mantida na lista\n",
    "# Caso contrário, é descartada (removida)\n",
    "Base_Tweets['tokens'] = Base_Tweets['tokens'].apply(\n",
    "    lambda tokens: [word for word in tokens if word not in stop_words]\n",
    ")\n",
    "\n",
    "# Exibir as primeiras linhas da coluna tokens, para visualizar o efeito do processo de remoção\n",
    "print(Base_Tweets[['tokens']].head())"
   ]
  },
  {
   "cell_type": "markdown",
   "metadata": {},
   "source": [
    "### **3.5 Normalização**\n",
    "\n",
    "A normalização é o processo de transformar o texto em uma forma padronizada. Isso pode facilitar a comparação e a análise de textos e pode ajudar a reduzir a complexidade dos dados. Neste caso, aplicamos técnica de normalização chamada de *Lematização*.\n",
    "\n",
    "---\n",
    "\n",
    "**O que é Lematização?**\n",
    "\n",
    "Técnica que tem o objetivo de reduzir as palavras trazendo elas de volta à sua forma base ou lema original. Desta forma, conseguimos ter melhores resultados em:\n",
    "\n",
    "* `Simplificar a análise textual;` \n",
    "\n",
    "* `Obter melhores informações desses textos;`\n",
    "\n",
    "* `Tradução e conversão mais automática;`\n",
    "\n",
    "\n"
   ]
  },
  {
   "cell_type": "code",
   "execution_count": 15,
   "metadata": {},
   "outputs": [
    {
     "name": "stderr",
     "output_type": "stream",
     "text": [
      "[nltk_data] Downloading package wordnet to\n",
      "[nltk_data]     C:\\Users\\jmend\\AppData\\Roaming\\nltk_data...\n",
      "[nltk_data]   Package wordnet is already up-to-date!\n"
     ]
    },
    {
     "name": "stdout",
     "output_type": "stream",
     "text": [
      "                                              tokens\n",
      "0  [upset, ca, n't, update, facebook, texting, .....\n",
      "1  [dived, many, time, ball, ., managed, save, 50...\n",
      "2             [whole, body, feel, itchy, like, fire]\n",
      "3  [,, 's, behaving, ., 'm, mad, ., ?, ca, n't, s...\n",
      "4                                      [whole, crew]\n"
     ]
    }
   ],
   "source": [
    "# Importando a classe responsável pela lematização\n",
    "from nltk.stem import WordNetLemmatizer\n",
    "\n",
    "# Realiza o dowload do dicionario denominado como WordNet\n",
    "nltk.download('wordnet')\n",
    "\n",
    "# Criação de uma instância do lematizador\n",
    "lemmatizer = WordNetLemmatizer()\n",
    "\n",
    "# Aplicamos a lematização na coluna tokens\n",
    "# Desta forma, cada tokens será aplicado um processo de normalização (lematização)\n",
    "# Converte a palavra para sua forma base, curta e mais direcionada\n",
    "Base_Tweets['tokens'] = Base_Tweets['tokens'].apply(\n",
    "    lambda tokens: [lemmatizer.lemmatize(word) for word in tokens]\n",
    ")\n",
    "\n",
    "# Exibir alguns tokens já lematizados\n",
    "print(Base_Tweets[['tokens']].head())"
   ]
  },
  {
   "cell_type": "markdown",
   "metadata": {},
   "source": [
    "### **3.6 Reconstrução de Texto**\n",
    "\n",
    "* Unir novamente os tokens criados em uma única string."
   ]
  },
  {
   "cell_type": "code",
   "execution_count": 16,
   "metadata": {},
   "outputs": [
    {
     "name": "stdout",
     "output_type": "stream",
     "text": [
      "                                      processed_text\n",
      "0  upset ca n't update facebook texting ... might...\n",
      "1  dived many time ball . managed save 50 rest go...\n",
      "2                    whole body feel itchy like fire\n",
      "3            , 's behaving . 'm mad . ? ca n't see .\n",
      "4                                         whole crew\n"
     ]
    }
   ],
   "source": [
    "# Cria uma nova coluna chamada processed_text no nosso conjunto\n",
    "# Essa coluna irá conter o texto processados e reconstruidos, no qual os tokens serão unidos novamentes em uma unica string\n",
    "\n",
    "Base_Tweets['processed_text'] = Base_Tweets['tokens'].apply(lambda tokens: \" \".join(tokens))\n",
    "\n",
    "# Exibir o texto processado\n",
    "print(Base_Tweets[['processed_text']].head())\n"
   ]
  },
  {
   "cell_type": "code",
   "execution_count": 17,
   "metadata": {},
   "outputs": [
    {
     "data": {
      "text/html": [
       "<div>\n",
       "<style scoped>\n",
       "    .dataframe tbody tr th:only-of-type {\n",
       "        vertical-align: middle;\n",
       "    }\n",
       "\n",
       "    .dataframe tbody tr th {\n",
       "        vertical-align: top;\n",
       "    }\n",
       "\n",
       "    .dataframe thead th {\n",
       "        text-align: right;\n",
       "    }\n",
       "</style>\n",
       "<table border=\"1\" class=\"dataframe\">\n",
       "  <thead>\n",
       "    <tr style=\"text-align: right;\">\n",
       "      <th></th>\n",
       "      <th>sentiment</th>\n",
       "      <th>timestamp</th>\n",
       "      <th>text</th>\n",
       "      <th>tokens</th>\n",
       "      <th>processed_text</th>\n",
       "    </tr>\n",
       "  </thead>\n",
       "  <tbody>\n",
       "    <tr>\n",
       "      <th>0</th>\n",
       "      <td>0</td>\n",
       "      <td>Mon Apr 06 22:19:49 PDT 2009</td>\n",
       "      <td>is upset that he can't update his facebook by ...</td>\n",
       "      <td>[upset, ca, n't, update, facebook, texting, .....</td>\n",
       "      <td>upset ca n't update facebook texting ... might...</td>\n",
       "    </tr>\n",
       "    <tr>\n",
       "      <th>1</th>\n",
       "      <td>0</td>\n",
       "      <td>Mon Apr 06 22:19:53 PDT 2009</td>\n",
       "      <td>i dived many times for the ball. managed to sa...</td>\n",
       "      <td>[dived, many, time, ball, ., managed, save, 50...</td>\n",
       "      <td>dived many time ball . managed save 50 rest go...</td>\n",
       "    </tr>\n",
       "    <tr>\n",
       "      <th>2</th>\n",
       "      <td>0</td>\n",
       "      <td>Mon Apr 06 22:19:57 PDT 2009</td>\n",
       "      <td>my whole body feels itchy and like its on fire</td>\n",
       "      <td>[whole, body, feel, itchy, like, fire]</td>\n",
       "      <td>whole body feel itchy like fire</td>\n",
       "    </tr>\n",
       "    <tr>\n",
       "      <th>3</th>\n",
       "      <td>0</td>\n",
       "      <td>Mon Apr 06 22:19:57 PDT 2009</td>\n",
       "      <td>no, it's not behaving at all. i'm mad. why am ...</td>\n",
       "      <td>[,, 's, behaving, ., 'm, mad, ., ?, ca, n't, s...</td>\n",
       "      <td>, 's behaving . 'm mad . ? ca n't see .</td>\n",
       "    </tr>\n",
       "    <tr>\n",
       "      <th>4</th>\n",
       "      <td>0</td>\n",
       "      <td>Mon Apr 06 22:20:00 PDT 2009</td>\n",
       "      <td>not the whole crew</td>\n",
       "      <td>[whole, crew]</td>\n",
       "      <td>whole crew</td>\n",
       "    </tr>\n",
       "  </tbody>\n",
       "</table>\n",
       "</div>"
      ],
      "text/plain": [
       "   sentiment                     timestamp  \\\n",
       "0          0  Mon Apr 06 22:19:49 PDT 2009   \n",
       "1          0  Mon Apr 06 22:19:53 PDT 2009   \n",
       "2          0  Mon Apr 06 22:19:57 PDT 2009   \n",
       "3          0  Mon Apr 06 22:19:57 PDT 2009   \n",
       "4          0  Mon Apr 06 22:20:00 PDT 2009   \n",
       "\n",
       "                                                text  \\\n",
       "0  is upset that he can't update his facebook by ...   \n",
       "1  i dived many times for the ball. managed to sa...   \n",
       "2     my whole body feels itchy and like its on fire   \n",
       "3  no, it's not behaving at all. i'm mad. why am ...   \n",
       "4                                 not the whole crew   \n",
       "\n",
       "                                              tokens  \\\n",
       "0  [upset, ca, n't, update, facebook, texting, .....   \n",
       "1  [dived, many, time, ball, ., managed, save, 50...   \n",
       "2             [whole, body, feel, itchy, like, fire]   \n",
       "3  [,, 's, behaving, ., 'm, mad, ., ?, ca, n't, s...   \n",
       "4                                      [whole, crew]   \n",
       "\n",
       "                                      processed_text  \n",
       "0  upset ca n't update facebook texting ... might...  \n",
       "1  dived many time ball . managed save 50 rest go...  \n",
       "2                    whole body feel itchy like fire  \n",
       "3            , 's behaving . 'm mad . ? ca n't see .  \n",
       "4                                         whole crew  "
      ]
     },
     "execution_count": 17,
     "metadata": {},
     "output_type": "execute_result"
    }
   ],
   "source": [
    "Base_Tweets.head()"
   ]
  },
  {
   "cell_type": "markdown",
   "metadata": {},
   "source": [
    "## **4. Anáise Explorátoria (EDA)**"
   ]
  },
  {
   "cell_type": "markdown",
   "metadata": {},
   "source": [
    "### **4.1 Distribuição de Sentimento**\n",
    "\n",
    "**Introdução**\n",
    "\n",
    "Esta análise univariada foi fundamental para entender a polaridade das opiniões expressas em um corpus de textos.\n",
    "\n",
    "---\n",
    "\n",
    "**Interpretação do Gráfico**\n",
    "\n",
    "O gráfico de barras mostra a contagem de tweets classificados como negativos (negativos) e positivos (4). Podemos observar que:\n",
    "\n",
    "* `Equilíbrio entre os Sentimentos:`\n",
    "\n",
    "    O número de tweets classificados como negativos e positivos é aproximadamente o mesmo. Isso sugere um equilíbrio na polaridade dos sentimentos expressos no conjunto de dados.\n",
    "\n",
    "* `Ausência de Sentimentos Neutros:`\n",
    "\n",
    "    O gráfico não apresenta dados para sentimentos neutros, indicando que todos os tweets foram classificados como positivos ou negativos.\n",
    "\n",
    "---\n",
    "\n",
    "**Conclusões**\n",
    "\n",
    "Com base nessa análise, podemos concluir que:\n",
    "\n",
    "* `Diversidade de Opiniões:` \n",
    "\n",
    "    O conjunto de dados apresenta uma diversidade de opiniões, com um número similar de tweets expressando sentimentos positivos e negativos.\n",
    "\n",
    "* `Classificação Binária:`\n",
    "\n",
    "    A classificação dos sentimentos foi realizada de forma binária, ou seja, os tweets foram categorizados como exclusivamente positivos ou negativos."
   ]
  },
  {
   "cell_type": "code",
   "execution_count": 18,
   "metadata": {},
   "outputs": [
    {
     "name": "stderr",
     "output_type": "stream",
     "text": [
      "C:\\Users\\jmend\\AppData\\Local\\Temp\\ipykernel_23120\\2016438493.py:10: FutureWarning: \n",
      "\n",
      "Passing `palette` without assigning `hue` is deprecated and will be removed in v0.14.0. Assign the `x` variable to `hue` and set `legend=False` for the same effect.\n",
      "\n",
      "  sns.barplot(x=sentiment_counts.index, y=sentiment_counts.values, palette=\"viridis\")\n"
     ]
    },
    {
     "data": {
      "image/png": "[encoded data removed]",
      "text/plain": [
       "<Figure size 800x400 with 1 Axes>"
      ]
     },
     "metadata": {},
     "output_type": "display_data"
    }
   ],
   "source": [
    "# Importando bibliotecas como 'matplotlib' e 'seaborn' feitas para visualizações gráficas no python\n",
    "import matplotlib.pyplot as plt\n",
    "import seaborn as sns\n",
    "\n",
    "# Realização da contagem de vezes que sentimento = 0 e sentimento = 4 aparecem no dataset\n",
    "sentiment_counts = Base_Tweets['sentiment'].value_counts()\n",
    "\n",
    "# Desenvolvimento do gráfico\n",
    "plt.figure(figsize=(8, 4))\n",
    "sns.barplot(x=sentiment_counts.index, y=sentiment_counts.values, palette=\"viridis\")\n",
    "plt.title(\"Distribuição dos Sentimentos\")\n",
    "plt.xlabel(\"Sentimento (0 = Negativo, 4 = Positivo)\")\n",
    "plt.ylabel(\"Número de Tweets\")\n",
    "plt.show()"
   ]
  },
  {
   "cell_type": "markdown",
   "metadata": {},
   "source": [
    "### **4.2 Comprimento de Texto**\n",
    "\n",
    "**Introdução**\n",
    "\n",
    "A análise realizada demonstra como está a distribuição do número de caracteres em um conjunto de textos (tweets). Essa análise é fundamental para entendermos o formato dos tweets e como o comprimento dos textos influencia em outras análises.\n",
    "\n",
    "---\n",
    "\n",
    "**Interpretação do Gráfico**\n",
    "\n",
    "* `Assimetria à direita:` \n",
    "\n",
    "A distribuição apresenta uma cauda longa à direita, indicando que a maioria dos tweets tem um comprimento menor, mas há alguns tweets muitos longos.\n",
    "\n",
    "* `Pico central: ` \n",
    "\n",
    "A distribuição apresenta um pico central, indicando que existe um comprimento de tweet mais comum.\n",
    "\n",
    "---\n",
    "\n",
    "**Conclusões**\n",
    "\n",
    "* `Otimização do Espaço:`\n",
    "\n",
    "    A maioria dos usuários parece otimizar o uso dos caracteres, com a maioria dos tweets tendo um comprimento médio.\n",
    "\n",
    "* `Conteúdo Variado:`\n",
    "\n",
    "    A presença de tweets mais longos indica que alguns usuários utilizam todo o espaço dispnível para expressar suas ideias.\n",
    "\n",
    "\n",
    "\n",
    "\n"
   ]
  },
  {
   "cell_type": "code",
   "execution_count": 19,
   "metadata": {},
   "outputs": [
    {
     "data": {
      "image/png": "[encoded data removed]",
      "text/plain": [
       "<Figure size 800x400 with 1 Axes>"
      ]
     },
     "metadata": {},
     "output_type": "display_data"
    }
   ],
   "source": [
    "# Criação de uma nova coluna chamada 'text_lenght', na qual nessa coluna demonstra o tamanho que aquele texto possui = quantidade de caracteres\n",
    "Base_Tweets['text_length'] = Base_Tweets['processed_text'].apply(len)\n",
    "\n",
    "# Desenvolvimento do gráfico de histograma\n",
    "plt.figure(figsize=(8, 4))\n",
    "sns.histplot(Base_Tweets['text_length'], bins=30, kde=True, color='blue')\n",
    "plt.title(\"Distribuição do Comprimento dos Tweets\")\n",
    "plt.xlabel(\"Número de Caracteres\")\n",
    "plt.ylabel(\"Frequência\")\n",
    "plt.show()"
   ]
  },
  {
   "cell_type": "markdown",
   "metadata": {},
   "source": [
    "### **4.3 Frequência de Palavras**\n",
    "\n",
    "**Introdução**\n",
    "\n",
    "A análise tem o objetivo de demonstrar quais são os 20 caracteres que são mais frequentes no conjunto de textos que estão sendo trabalhados. Desta forma, podemos identificar os termos mais comuns utilizados pelos usuários e obter insights sobre o vocabulário utilizados nas redes sociais.\n",
    "\n",
    "---\n",
    "\n",
    "**Interpretação do Gráfico**\n",
    "\n",
    "* `Predominância de Pontuação:` \n",
    "\n",
    "Observa - se que os caracteres de pontuação, como ponto final, vírgula, exclamação, estão entre os mais frequentes. Isso indica que a linguagem utilziada nas redes sociais é bastante expressiva e utiliza diversos recursos para transmitir emoçoes.\n",
    "\n",
    "* `Contrações:` \n",
    "\n",
    "    A utilização frequente de contrações reflete em uma linguagem informal e conversacional característica das redes sociais.\n",
    "\n",
    "* `Emoções e Sentimentos:` \n",
    "\n",
    "    A presença de palavras relacionadas a emoçoes e sentimentos, sugere que pessoas utilizam as redes sociais para expressar suas opiniões e emoções \n",
    "\n",
    "--- \n",
    "\n",
    "**Conclusões**\n",
    "\n",
    "* `Linguagem Informal:`\n",
    "\n",
    "    A predominância de contrações e palavras curtas indica que a linguagem utilizada nas redes sociais é informal e conversacional.\n",
    "    \n",
    "* `Expressão de Emoções:`\n",
    "\n",
    "    A presença de palavras relacionadas a emoçoes sugere que as redes sociais são utilizadas para expressar sentimentos e opiniões.\n",
    "\n",
    "* `Uso Intenso de Pontuação:`\n",
    "\n",
    "    A alta frequência de pontuação indica que os usuários utilizam diversos recursos para enfatizar suas mensagens e transmitir emoções."
   ]
  },
  {
   "cell_type": "code",
   "execution_count": 20,
   "metadata": {},
   "outputs": [
    {
     "name": "stderr",
     "output_type": "stream",
     "text": [
      "C:\\Users\\jmend\\AppData\\Local\\Temp\\ipykernel_23120\\2661697545.py:18: FutureWarning: \n",
      "\n",
      "Passing `palette` without assigning `hue` is deprecated and will be removed in v0.14.0. Assign the `y` variable to `hue` and set `legend=False` for the same effect.\n",
      "\n",
      "  sns.barplot(x='count', y='word', data=common_words_df, palette=\"viridis\")\n"
     ]
    },
    {
     "data": {
      "image/png": "[encoded data removed]",
      "text/plain": [
       "<Figure size 1000x600 with 1 Axes>"
      ]
     },
     "metadata": {},
     "output_type": "display_data"
    }
   ],
   "source": [
    "# Importação da biblioteca Counter para contar a frequência de elementos\n",
    "from collections import Counter\n",
    "\n",
    "# Utiliza o método .join para reunir os textos processados numa unica string \n",
    "all_words = \"\".join(Base_Tweets['processed_text']).split()\n",
    "\n",
    "# Conta a frequência de cada palavra na lista dos textos\n",
    "word_counts = Counter(all_words)\n",
    "\n",
    "# Identifica as 20 palavras mais comuns e suas respectivas frequências\n",
    "most_common_words = word_counts.most_common(20)\n",
    "\n",
    "# Para auxiliar no desenvolvimento da visualização gráfica armazenamos dentro de um DF as palavras mais comuns e mais utilizadas\n",
    "common_words_df = pd.DataFrame(most_common_words, columns=['word', 'count'])\n",
    "\n",
    "# Desenvolvimento do gráfico de barras\n",
    "plt.figure(figsize=(10, 6))\n",
    "sns.barplot(x='count', y='word', data=common_words_df, palette=\"viridis\")\n",
    "plt.title(\"20 Caracteres Mais Frequentes\")\n",
    "plt.xlabel(\"Frequência\")\n",
    "plt.ylabel(\"Palavras\")\n",
    "plt.show()"
   ]
  },
  {
   "cell_type": "markdown",
   "metadata": {},
   "source": [
    "### **4.4 Análise Bivariada (Sentimento vs Comprimento)**\n",
    "\n",
    "**Introdução**\n",
    "\n",
    "A ideia é compararar o comprimento dos textos com a polaridade dos sentimentos, e tentar entender se o tamanho dos textos influencia no sentimento gerado.\n",
    "\n",
    "---\n",
    "\n",
    "**Interpretação**\n",
    "\n",
    "* `Mediana`\n",
    "\n",
    "    A mediana do comprimento dos tweets negativos e positivos é similar, indicando que, em média, os tweets com sentimentos opostos tendem a ter aproximadamente o mesmo comprimento.\n",
    "\n",
    "* `Outliers`\n",
    "\n",
    "    A presença de outliers, principalmente em valores mais altos, indica que existem alguns tweets muitos longos, tanto em textos positivos quanto negativos.\n",
    "\n",
    "---\n",
    "\n",
    "**Conclusões**\n",
    "\n",
    "* `Pouca influência do sentimento no comprimento:`\n",
    "\n",
    "    O comprimento do tweet não parece ser um fator determinante para a polaridade do sentimento expresso.  \n",
    "\n",
    "* `Outros fatores:`\n",
    "\n",
    "    A variação no comprimento dos tweets pode estar relacionada a outros fatores, como o tópico discutido, o contexto da conversa ou as características individuais dos usuários."
   ]
  },
  {
   "cell_type": "code",
   "execution_count": 23,
   "metadata": {},
   "outputs": [
    {
     "name": "stderr",
     "output_type": "stream",
     "text": [
      "C:\\Users\\jmend\\AppData\\Local\\Temp\\ipykernel_23120\\3383750878.py:5: FutureWarning: \n",
      "\n",
      "Passing `palette` without assigning `hue` is deprecated and will be removed in v0.14.0. Assign the `x` variable to `hue` and set `legend=False` for the same effect.\n",
      "\n",
      "  sns.boxplot(x='sentiment', y='text_length', data=Base_Tweets, palette=\"viridis\")\n"
     ]
    },
    {
     "data": {
      "image/png": "[encoded data removed]",
      "text/plain": [
       "<Figure size 800x400 with 1 Axes>"
      ]
     },
     "metadata": {},
     "output_type": "display_data"
    }
   ],
   "source": [
    "# Desenvolvimento do gráfico box plot para entender como está a correlação da variavel sentimento e comprimento\n",
    "# Como o comprimento do texto influencia no sentimento transmitido\n",
    "\n",
    "plt.figure(figsize=(8, 4))\n",
    "sns.boxplot(x='sentiment', y='text_length', data=Base_Tweets, palette=\"viridis\")\n",
    "plt.title(\"Comprimento dos Tweets por Sentimento\")\n",
    "plt.xlabel(\"Sentimento (0 = Negativo, 4 = Positivo)\")\n",
    "plt.ylabel(\"Comprimento do Texto\")\n",
    "plt.show()\n"
   ]
  },
  {
   "cell_type": "markdown",
   "metadata": {},
   "source": [
    "## **5. Criação do Modelo**\n",
    "\n",
    "Dois modelos foram criados e testados:\n",
    "\n",
    "**Modelo Naive Bayes**\n",
    "\n",
    "O *Naive Bayes* (\"Ingenuo de Bayes\") é um classificador baseado no Teorema de Bayes. Ele assume que as palavras são independentes entre si, o que torna seu processamento rápido e eficiente. Testamos esta abordagem para a classificação de textos.\n",
    "\n",
    "**Resultados**\n",
    "\n",
    "* Acurácia do Modelo: 0.7568 (0.76)\n",
    "\n",
    "---\n",
    "\n",
    "**Modelo SVM**\n",
    "\n",
    "O *SVM* foi utilizado por sua robustez na classificação de texto. Após ajustes e otimização de hiperparâmetros, apresentou resultados superiores:\n",
    "\n",
    "**Resultados**\n",
    "\n",
    "* Acurácia do Modelo: 0.7703 (0.78)\n",
    "\n",
    "---\n",
    "\n",
    "**Conclusão**\n",
    "\n",
    "Após os testes e análises, o modelo SVM foi escolhido para a aplicação devido ao seu melhor desempenho na classificação de sentimentos. "
   ]
  },
  {
   "cell_type": "markdown",
   "metadata": {},
   "source": [
    "### **5.1 Representação Numérica (TF - IDF)** \n",
    "\n",
    "**Introdução**\n",
    "\n",
    "O objetivo aqui é transformar os textos que estão localizados na variavel `processed_text` em valores numéricos, para que o modelo possa entender melhorar os dados que estão sendo trabalhados.\n",
    "\n",
    "---\n",
    "\n",
    "**Definição TF - IDF**\n",
    "\n",
    "Uma medida estatística que possui o objetivo de avaliar o nível de importância de uma palavra em um determinado tipo de documento. Desta forma, ela leva em conta dois métodos importantes:\n",
    "\n",
    "* Quantidade de vezes que aparece em um determinado documento.\n",
    "\n",
    "* O quão rara uma palavra é em todo documento.\n",
    "\n",
    "---\n",
    "\n",
    "**Resultados**\n",
    "\n",
    "Foi gerada uma matriz (vetor) e na qual cada valor que está dentro dela representa o peso TF - IDG de uma determinada palavra. Desta forma, a matriz possui essas características:\n",
    "\n",
    "* Cada linha representa um tweet, e isso indica que temos 1.599.999 tweets no conjunto de dados.\n",
    "\n",
    "* Cada coluna representa uma palavra, com isso cada linha terá 5000 valores.\n",
    "\n",
    "\n",
    "\n"
   ]
  },
  {
   "cell_type": "code",
   "execution_count": 24,
   "metadata": {},
   "outputs": [
    {
     "name": "stdout",
     "output_type": "stream",
     "text": [
      "Forma do vetor TF-IDF: (1599999, 5000)\n"
     ]
    }
   ],
   "source": [
    "from sklearn.feature_extraction.text import TfidfVectorizer\n",
    "\n",
    "tfidf = TfidfVectorizer(max_features=5000)\n",
    "\n",
    "X = tfidf.fit_transform(Base_Tweets['processed_text'])\n",
    "\n",
    "print(f\"Forma do vetor TF-IDF: {X.shape}\")"
   ]
  },
  {
   "cell_type": "markdown",
   "metadata": {},
   "source": [
    "### **5.2 Divisão dos Dados**\n",
    "\n",
    "**Porque dividir os Dados?**\n",
    "\n",
    "Essa técnica permite avaliar a capacidade de um modelo de generalizar para novos dados, ou seja, de fazer previsões precisas em dados que ele não observou.\n",
    "\n",
    "---\n",
    "\n",
    "**Conjunto de Treinamento**\n",
    "\n",
    "* Utilizado para treinar o modelo. O algoritmo vai estudar os dados de treinamento para identificar padrões entre as features e a variável alvo.\n",
    "\n",
    "* Ao aprender, o modelo vai ajustar seus parâmetros internos para fazer previsões mais precisas.\n",
    "\n",
    "---\n",
    "\n",
    "**Conjunto de Teste**\n",
    "\n",
    "* Utilizado para avaliar o desempenho do modelo treinado. Após o treinamento, o modelo faz previsões para os dados do conjunto de teste, e essas previsões são comparadas com os valores reais da variável alvo.\n",
    "\n",
    "* Essa comparação permite medir a acurácia do modelo e identificar se ele está generalizando bem para novos dados.\n",
    "\n",
    "---\n",
    "\n",
    "**Resultados**\n",
    "\n",
    "* `1.279.999 amostras para treinamento:`\n",
    "\n",
    "Esse é o conjunto de dados que o seu modelo irá utilizar para aprender os padrões e as relações entre as variáveis. É com base nesse conjunto que o modelo será \"treinado\" a fazer previsões.\n",
    "\n",
    "* `320.000 amostras para teste:` \n",
    "\n",
    "Esse conjunto será utilizado para avaliar a performance do modelo treinado. O modelo fará previsões para essas amostras."
   ]
  },
  {
   "cell_type": "code",
   "execution_count": 25,
   "metadata": {},
   "outputs": [
    {
     "name": "stdout",
     "output_type": "stream",
     "text": [
      "Tamanho do conjunto de treino: 1279999 amostras\n",
      "Tamanho do conjunto de teste: 320000 amostras\n"
     ]
    }
   ],
   "source": [
    "from sklearn.model_selection import train_test_split\n",
    "\n",
    "y= Base_Tweets['sentiment']\n",
    "\n",
    "X_train, X_test, y_train, y_test = train_test_split(X, y, test_size=0.2, random_state=42)\n",
    "\n",
    "print(f\"Tamanho do conjunto de treino: {X_train.shape[0]} amostras\")\n",
    "print(f\"Tamanho do conjunto de teste: {X_test.shape[0]} amostras\")"
   ]
  },
  {
   "cell_type": "markdown",
   "metadata": {},
   "source": [
    "### 5.3 Treinamento do Modelo (Naive Bayes)"
   ]
  },
  {
   "cell_type": "code",
   "execution_count": 26,
   "metadata": {},
   "outputs": [
    {
     "name": "stdout",
     "output_type": "stream",
     "text": [
      "Modelo Naive Bayes treinado com sucesso\n"
     ]
    }
   ],
   "source": [
    "from sklearn.naive_bayes import MultinomialNB\n",
    "\n",
    "model = MultinomialNB()\n",
    "\n",
    "model.fit(X_train, y_train)\n",
    "\n",
    "print(\"Modelo Naive Bayes treinado com sucesso\")"
   ]
  },
  {
   "cell_type": "markdown",
   "metadata": {},
   "source": [
    "### 5.4 Avaliação do Modelo"
   ]
  },
  {
   "cell_type": "code",
   "execution_count": 27,
   "metadata": {},
   "outputs": [
    {
     "name": "stdout",
     "output_type": "stream",
     "text": [
      "Relatório de Classificação:\n",
      "              precision    recall  f1-score   support\n",
      "\n",
      "           0       0.75      0.76      0.76    159494\n",
      "           4       0.76      0.75      0.76    160506\n",
      "\n",
      "    accuracy                           0.76    320000\n",
      "   macro avg       0.76      0.76      0.76    320000\n",
      "weighted avg       0.76      0.76      0.76    320000\n",
      "\n",
      "Acurácia do Modelo:\n",
      "0.7567875\n"
     ]
    }
   ],
   "source": [
    "from sklearn.metrics import classification_report, accuracy_score\n",
    "\n",
    "# Fazer previsões no conjunto de teste\n",
    "y_pred = model.predict(X_test)\n",
    "\n",
    "# Avaliar o modelo\n",
    "print(\"Relatório de Classificação:\")\n",
    "print(classification_report(y_test, y_pred))\n",
    "\n",
    "print(\"Acurácia do Modelo:\")\n",
    "print(accuracy_score(y_test, y_pred))\n"
   ]
  },
  {
   "cell_type": "markdown",
   "metadata": {},
   "source": [
    "### **5.5 Desempenho do Modelo Naive Bayes por Classe**\n",
    "\n",
    "**Introdução**\n",
    "\n",
    "O gráfico desenvolvido mostra o desempenho de um modelo de classificação Naive Bayes para as duas classes: negativa (0) e positiva (4). Ele compara três métricas de desempenho: Precisão, Recall e F1 - Score.\n",
    "\n",
    "---\n",
    "\n",
    "**Interpretação do Gráfico**\n",
    "\n",
    "O gráfico mostra que o modelo obteve um desempenho bastante similar para ambas as classes, com valores de precisão, recall e F1-score em torno de 0.75. Isso indica que o modelo é capaz de classificar corretamente tanto os exemplos negativos quanto os positivos com uma precisão razoável.\n",
    "\n",
    "---\n",
    "\n",
    "**Conclusão**\n",
    "\n",
    "Com base no gráfico, podemos concluir que o modelo Naive Bayes utilizado apresenta um desempenho razoável na classificação dos dados, com um bom equilíbrio entre precisão e recall para ambas as classes."
   ]
  },
  {
   "cell_type": "code",
   "execution_count": 28,
   "metadata": {},
   "outputs": [
    {
     "data": {
      "image/png": "[encoded data removed]",
      "text/plain": [
       "<Figure size 800x600 with 1 Axes>"
      ]
     },
     "metadata": {},
     "output_type": "display_data"
    }
   ],
   "source": [
    "import matplotlib.pyplot as plt\n",
    "import numpy as np\n",
    "\n",
    "# Métricas extraídas manualmente do relatório\n",
    "classes = ['Negativo (0)', 'Positivo (4)']\n",
    "precision = [0.75, 0.76]\n",
    "recall = [0.76, 0.75]\n",
    "f1_score = [0.76, 0.76]\n",
    "\n",
    "# Configurar o gráfico\n",
    "x = np.arange(len(classes))  # Localização das barras\n",
    "width = 0.25  # Largura das barras\n",
    "\n",
    "fig, ax = plt.subplots(figsize=(8, 6))\n",
    "\n",
    "# Barras para cada métrica\n",
    "rects1 = ax.bar(x - width, precision, width, label='Precisão', color='blue')\n",
    "rects2 = ax.bar(x, recall, width, label='Recall', color='green')\n",
    "rects3 = ax.bar(x + width, f1_score, width, label='F1-Score', color='orange')\n",
    "\n",
    "# Configuração dos rótulos e título\n",
    "ax.set_xlabel('Classes')\n",
    "ax.set_ylabel('Valores')\n",
    "ax.set_title('Desempenho por Classe')\n",
    "ax.set_xticks(x)\n",
    "ax.set_xticklabels(classes)\n",
    "ax.legend()\n",
    "\n",
    "# Exibir valores nas barras\n",
    "def autolabel(rects):\n",
    "    for rect in rects:\n",
    "        height = rect.get_height()\n",
    "        ax.annotate(f'{height:.2f}',\n",
    "                    xy=(rect.get_x() + rect.get_width() / 2, height),\n",
    "                    xytext=(0, 3),  # Distância do texto\n",
    "                    textcoords=\"offset points\",\n",
    "                    ha='center', va='bottom')\n",
    "\n",
    "autolabel(rects1)\n",
    "autolabel(rects2)\n",
    "autolabel(rects3)\n",
    "\n",
    "plt.tight_layout()\n",
    "plt.show()\n"
   ]
  },
  {
   "cell_type": "markdown",
   "metadata": {},
   "source": [
    "## 5.6 **Instanciamento Modelo SVM**"
   ]
  },
  {
   "cell_type": "code",
   "execution_count": 29,
   "metadata": {},
   "outputs": [
    {
     "name": "stderr",
     "output_type": "stream",
     "text": [
      "c:\\Users\\jmend\\anaconda3\\Lib\\site-packages\\sklearn\\svm\\_classes.py:31: FutureWarning: The default value of `dual` will change from `True` to `'auto'` in 1.5. Set the value of `dual` explicitly to suppress the warning.\n",
      "  warnings.warn(\n"
     ]
    },
    {
     "name": "stdout",
     "output_type": "stream",
     "text": [
      "Relatório de Classificação (SVM):\n",
      "              precision    recall  f1-score   support\n",
      "\n",
      "           0       0.79      0.74      0.76    159494\n",
      "           4       0.76      0.80      0.78    160506\n",
      "\n",
      "    accuracy                           0.77    320000\n",
      "   macro avg       0.77      0.77      0.77    320000\n",
      "weighted avg       0.77      0.77      0.77    320000\n",
      "\n",
      "Acurácia do Modelo (SVM):\n",
      "0.77179375\n"
     ]
    }
   ],
   "source": [
    "from sklearn.svm import LinearSVC\n",
    "from sklearn.metrics import classification_report, accuracy_score\n",
    "\n",
    "svm_model = LinearSVC()\n",
    "\n",
    "svm_model.fit(X_train, y_train)\n",
    "\n",
    "y_pred_svm = svm_model.predict(X_train)\n",
    "\n",
    "# Fazer previsões no conjunto de teste\n",
    "y_pred_svm = svm_model.predict(X_test)\n",
    "\n",
    "# Avaliar o modelo\n",
    "print(\"Relatório de Classificação (SVM):\")\n",
    "print(classification_report(y_test, y_pred_svm))\n",
    "\n",
    "print(\"Acurácia do Modelo (SVM):\")\n",
    "print(accuracy_score(y_test, y_pred_svm))"
   ]
  },
  {
   "cell_type": "markdown",
   "metadata": {},
   "source": [
    "### **5.7 Comparativo Naive Bayes e SVM**\n",
    "\n",
    "**Introdução**\n",
    "\n",
    "Oferece uma comparação visual do desempenho de dois algoritmos de classificação, Naive Bayes e SVM, em um problema de classificação binária as métricas utilizadas para avaliar o desempenho são precisão, recall e F1 - Score.\n",
    "\n",
    "\n",
    "**Conclusões**\n",
    "\n",
    "* `Desempenho Semelhante:`\n",
    "\n",
    "    Ambos os modelos apresentam um desempenho bastante similar, com pequenas diferenças nas métricas.\n",
    "\n",
    "* `Equilíbrio:`\n",
    "\n",
    "    Os modelos demonstram um bom equilíbrio entre precisãõ e recall para ambas as classes, indicando que eles são capazes de identificar tanto os exemplos positivos quanto os negativos.\n",
    "\n",
    "* `SVM levemente superior:`\n",
    "\n",
    "    O modelo SVM apresenta um desempenho ligeiramente melhor em termos de acurácia e F1 - Score.\n",
    "\n"
   ]
  },
  {
   "cell_type": "code",
   "execution_count": 30,
   "metadata": {},
   "outputs": [
    {
     "data": {
      "image/png": "[encoded data removed]",
      "text/plain": [
       "<Figure size 1200x600 with 1 Axes>"
      ]
     },
     "metadata": {},
     "output_type": "display_data"
    }
   ],
   "source": [
    "import matplotlib.pyplot as plt\n",
    "import numpy as np\n",
    "\n",
    "# Métricas do Naive Bayes\n",
    "nb_metrics = {\n",
    "    'precision': [0.75, 0.76],\n",
    "    'recall': [0.76, 0.75],\n",
    "    'f1-score': [0.76, 0.76]\n",
    "}\n",
    "\n",
    "# Métricas do SVM\n",
    "svm_metrics = {\n",
    "    'precision': [0.79, 0.76],\n",
    "    'recall': [0.74, 0.80],\n",
    "    'f1-score': [0.76, 0.78]\n",
    "}\n",
    "\n",
    "# Classes\n",
    "classes = ['Negativo (0)', 'Positivo (4)']\n",
    "x = np.arange(len(classes))  # Localização das barras\n",
    "\n",
    "# Configuração do Gráfico\n",
    "width = 0.2  # Largura das barras\n",
    "\n",
    "fig, ax = plt.subplots(figsize=(12, 6))\n",
    "\n",
    "# Adicionando Barras ao Gráfico\n",
    "for i, (metric, nb_values) in enumerate(nb_metrics.items()):\n",
    "    ax.bar(x + (i - 1.5) * width, nb_values, width, label=f'Naive Bayes - {metric}', color=f'C{i}')\n",
    "    ax.bar(x + (i - 0.5) * width, svm_metrics[metric], width, label=f'SVM - {metric}', color=f'C{i+3}')\n",
    "\n",
    "# Configurações do Eixo\n",
    "ax.set_xticks(x)\n",
    "ax.set_xticklabels(classes)\n",
    "ax.set_xlabel('Classes')\n",
    "ax.set_ylabel('Valores')\n",
    "ax.set_title('Comparação de Métricas: Naive Bayes vs. SVM')\n",
    "ax.legend()\n",
    "\n",
    "# Exibir o Gráfico\n",
    "plt.tight_layout()\n",
    "plt.show()\n"
   ]
  },
  {
   "cell_type": "markdown",
   "metadata": {},
   "source": [
    "## **6. Salvar o Modelo**"
   ]
  },
  {
   "cell_type": "code",
   "execution_count": null,
   "metadata": {},
   "outputs": [
    {
     "name": "stdout",
     "output_type": "stream",
     "text": [
      "Modelo e vetor TF-IDF salvos com sucesso!\n"
     ]
    }
   ],
   "source": [
    "# Importação a biblioteca joblib, que é usada para salvar objetos python na pasta\n",
    "import joblib\n",
    "\n",
    "# Salva o modelo SVM treinado no arquivo 'svm_model.pkl'\n",
    "# 'svm_model': Objeto do modelo treinado \n",
    "# 'svm_model.pkl': Nome do arquivo onde o modelo será salvo\n",
    "joblib.dump(svm_model, 'svm_model.pkl')\n",
    "\n",
    "# Salva o vetor TD-IDF no arquivo 'tfidf_vectorizer.pkl'\n",
    "# 'tfidf': Objeto do vetor TF-IDF ajustado\n",
    "# 'tfidf_vectorizer.pkl': Nome do arquivo onde o vetor ta salvo\n",
    "joblib.dump(tfidf, 'tfidf_vectorizer.pkl')\n",
    "\n",
    "# Mensagem de confimação\n",
    "print(\"Modelo e vetor TF-IDF salvos com sucesso!\")"
   ]
  },
  {
   "cell_type": "markdown",
   "metadata": {},
   "source": [
    "# 📌 **Conclusão**\n",
    "\n",
    "O desenvolvimento deste modelo de análise de sentimentos foi um processo detalhado e essencial para compreender como diferentes abordagens podem impactar a classificação de textos. Durante essa etapa, exploramos desde do pré - processamento dos dados até a avaliação dos modelos, garantindo uma pipeline eficiente e bem estruturada.\n",
    "\n",
    "---\n",
    "\n",
    "## **Impacto do Pré - Processamento**\n",
    "\n",
    "O pré - processamento foi uma fase essencial para melhorar a qualidade dos dados e, consequentemente, o desempenho do modelo. As seguintes técnicas foram aplicadas:\n",
    "\n",
    "* `Remoção de caracteres especiais e pontuação:`\n",
    "\n",
    "    * Reduziu ruídos no texto, tornando os padrões mais claros para o modelo.\n",
    "\n",
    "* `Tokenização:`\n",
    "\n",
    "    * Separou o texto em palavras individuais, permitindo melhor análise de contexto.\n",
    "\n",
    "* `Remoção de stopwords:`\n",
    "\n",
    "    * Eliminou palavras comuns que não agregam significado à análise, reduzindo dimensionalidade.\n",
    "\n",
    "* `Lematização:`\n",
    "    * Reduziu as palavras à sua forma base, ajudando o modelo a identificar padrões de significado semelhantes.\n",
    "\n",
    "* `Conversão para minúsculas:`\n",
    "    * Evitou distinções desnecessárias entre palavras maiúsculas e minúsculas.\n",
    "\n",
    "Essas técnicas garantiram que o modelo trabalhasse com dados mais *limpos*, *estruturados* e *relevantes*, aumentando sua eficiência na identificação de padrões de sentimento.\n",
    "\n",
    "---\n",
    "\n",
    "## **Resultados da Modelagem do Modelo**\n",
    "\n",
    "🔹O primeiro modelo desenvolvido e testado foi o *Naive Bayes*, que obteve uma acurácia de 75,67%. Embora seja um modelo probabilístico eficiente para textos, observou - se que ele não captava tão bem as relações entre palavras e padrões complexos do conjunto de dados.\n",
    "\n",
    "🔹 Em seguida, testamos o modelo SVM (Support Vector Machine), que apresentou um desempenho superior, alcançando uma acurácia de 77%. Além disso, apresentou um melhor equilíbrio entre precisão e recall, tornando-se a escolha ideal para esta fase do projeto.\n",
    "\n",
    "🔹 A análise das métricas indicou que o SVM teve um desempenho mais consistente para ambas as classes, reduzindo erros de classificação e melhorando a separação dos dados de sentimentos positivos e negativos.\n",
    "\n",
    "---\n",
    "\n",
    "## **Resumo Final**\n",
    "\n",
    "O trabalho desenvolvido neste notebook resultou na implementação de uma pipeline completa para um modelo baseado em PLN (Processamento de Linguagem Natural) para análise de sentimentos. Garantindo um modelo eficiente e bem fundamentado.\n",
    "\n",
    "Com a criação do modelo SVM, ele vai ser conectado juntamente com um sistema em CLI (Interface em Linha de Comando). Desta forma, vai ser possível observar na prática como o modelo interpreta textos que vão ser fornecido pra ele."
   ]
  }
 ],
 "metadata": {
  "kernelspec": {
   "display_name": "base",
   "language": "python",
   "name": "python3"
  },
  "language_info": {
   "codemirror_mode": {
    "name": "ipython",
    "version": 3
   },
   "file_extension": ".py",
   "mimetype": "text/x-python",
   "name": "python",
   "nbconvert_exporter": "python",
   "pygments_lexer": "ipython3",
   "version": "3.12.4"
  }
 },
 "nbformat": 4,
 "nbformat_minor": 2
}
